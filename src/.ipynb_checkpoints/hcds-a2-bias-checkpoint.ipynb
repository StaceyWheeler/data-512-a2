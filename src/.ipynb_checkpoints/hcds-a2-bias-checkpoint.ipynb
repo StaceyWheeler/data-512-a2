{
 "cells": [
  {
   "cell_type": "markdown",
   "metadata": {},
   "source": [
    "The goal of this assignment is to explore the concept of bias through data on Wikipedia articles - specifically, articles on political figures from a variety of countries. For this assignment, we will combine a dataset of Wikipedia articles with a dataset of country populations, and use a machine learning service called ORES to estimate the quality of each article.\n",
    "\n",
    "We will then perform an analysis of how the coverage of politicians on Wikipedia and the quality of articles about politicians varies between countries. The analysis will consist of a series of tables that show:\n",
    "\n",
    "1. The countries with the greatest and least coverage of politicians on Wikipedia compared to their population.\n",
    "2. The countries with the highest and lowest proportion of high quality articles about politicians.\n",
    "3. A ranking of geographic regions by articles-per-person and proportion of high quality articles.\n"
   ]
  },
  {
   "cell_type": "markdown",
   "metadata": {},
   "source": [
    "### Step 1: Getting the Article and Population Data"
   ]
  },
  {
   "cell_type": "code",
   "execution_count": 1,
   "metadata": {},
   "outputs": [],
   "source": [
    "import pandas as pd\n",
    "import numpy as np\n",
    "from ores import api\n",
    "from tqdm import tqdm"
   ]
  },
  {
   "cell_type": "code",
   "execution_count": 2,
   "metadata": {},
   "outputs": [],
   "source": [
    "page_data_path = '../data/page_data.csv'\n",
    "WPDS_path = '../data/WPDS_2020_data.csv'\n",
    "\n",
    "page_df = pd.read_csv(page_data_path)\n",
    "WPDS_df = pd.read_csv(WPDS_path)"
   ]
  },
  {
   "cell_type": "markdown",
   "metadata": {},
   "source": [
    "### Step 2: Cleaning the Data"
   ]
  },
  {
   "cell_type": "code",
   "execution_count": 3,
   "metadata": {},
   "outputs": [
    {
     "data": {
      "text/plain": [
       "0"
      ]
     },
     "execution_count": 3,
     "metadata": {},
     "output_type": "execute_result"
    }
   ],
   "source": [
    "page_df.rev_id.isna().sum()"
   ]
  },
  {
   "cell_type": "code",
   "execution_count": 4,
   "metadata": {},
   "outputs": [],
   "source": [
    "page_df = page_df.loc[~page_df['page'].str.contains('Template:')]"
   ]
  },
  {
   "cell_type": "code",
   "execution_count": 5,
   "metadata": {},
   "outputs": [
    {
     "data": {
      "text/plain": [
       "0"
      ]
     },
     "execution_count": 5,
     "metadata": {},
     "output_type": "execute_result"
    }
   ],
   "source": [
    "page_df.rev_id.isna().sum()"
   ]
  },
  {
   "cell_type": "code",
   "execution_count": 6,
   "metadata": {},
   "outputs": [],
   "source": [
    "region = 'NORTHERN AFRICA'\n",
    "\n",
    "regions = ['WORLD', 'AFRICA', 'NORTHERN AFRICA']\n",
    "for i in range(3, len(WPDS_df)):\n",
    "    if WPDS_df.iloc[i]['Type'] == 'Sub-Region':\n",
    "        region = WPDS_df.iloc[i]['Name']\n",
    "    regions.append(region)\n",
    "    \n",
    "WPDS_df['Region'] = regions\n",
    "\n",
    "regions_df = WPDS_df.loc[WPDS_df.Name.str.isupper() == True]\n",
    "countries_df = WPDS_df.loc[WPDS_df.Name.str.isupper() == False]"
   ]
  },
  {
   "cell_type": "code",
   "execution_count": 7,
   "metadata": {},
   "outputs": [
    {
     "data": {
      "text/html": [
       "<div>\n",
       "<style scoped>\n",
       "    .dataframe tbody tr th:only-of-type {\n",
       "        vertical-align: middle;\n",
       "    }\n",
       "\n",
       "    .dataframe tbody tr th {\n",
       "        vertical-align: top;\n",
       "    }\n",
       "\n",
       "    .dataframe thead th {\n",
       "        text-align: right;\n",
       "    }\n",
       "</style>\n",
       "<table border=\"1\" class=\"dataframe\">\n",
       "  <thead>\n",
       "    <tr style=\"text-align: right;\">\n",
       "      <th></th>\n",
       "      <th>FIPS</th>\n",
       "      <th>Name</th>\n",
       "      <th>Type</th>\n",
       "      <th>TimeFrame</th>\n",
       "      <th>Data (M)</th>\n",
       "      <th>Population</th>\n",
       "      <th>Region</th>\n",
       "    </tr>\n",
       "  </thead>\n",
       "  <tbody>\n",
       "    <tr>\n",
       "      <th>0</th>\n",
       "      <td>WORLD</td>\n",
       "      <td>WORLD</td>\n",
       "      <td>World</td>\n",
       "      <td>2019</td>\n",
       "      <td>7772.850</td>\n",
       "      <td>7772850000</td>\n",
       "      <td>WORLD</td>\n",
       "    </tr>\n",
       "    <tr>\n",
       "      <th>1</th>\n",
       "      <td>AFRICA</td>\n",
       "      <td>AFRICA</td>\n",
       "      <td>Sub-Region</td>\n",
       "      <td>2019</td>\n",
       "      <td>1337.918</td>\n",
       "      <td>1337918000</td>\n",
       "      <td>AFRICA</td>\n",
       "    </tr>\n",
       "    <tr>\n",
       "      <th>2</th>\n",
       "      <td>NORTHERN AFRICA</td>\n",
       "      <td>NORTHERN AFRICA</td>\n",
       "      <td>Sub-Region</td>\n",
       "      <td>2019</td>\n",
       "      <td>244.344</td>\n",
       "      <td>244344000</td>\n",
       "      <td>NORTHERN AFRICA</td>\n",
       "    </tr>\n",
       "    <tr>\n",
       "      <th>10</th>\n",
       "      <td>WESTERN AFRICA</td>\n",
       "      <td>WESTERN AFRICA</td>\n",
       "      <td>Sub-Region</td>\n",
       "      <td>2019</td>\n",
       "      <td>401.115</td>\n",
       "      <td>401115000</td>\n",
       "      <td>WESTERN AFRICA</td>\n",
       "    </tr>\n",
       "    <tr>\n",
       "      <th>27</th>\n",
       "      <td>EASTERN AFRICA</td>\n",
       "      <td>EASTERN AFRICA</td>\n",
       "      <td>Sub-Region</td>\n",
       "      <td>2019</td>\n",
       "      <td>444.970</td>\n",
       "      <td>444970000</td>\n",
       "      <td>EASTERN AFRICA</td>\n",
       "    </tr>\n",
       "    <tr>\n",
       "      <th>48</th>\n",
       "      <td>MIDDLE AFRICA</td>\n",
       "      <td>MIDDLE AFRICA</td>\n",
       "      <td>Sub-Region</td>\n",
       "      <td>2019</td>\n",
       "      <td>179.757</td>\n",
       "      <td>179757000</td>\n",
       "      <td>MIDDLE AFRICA</td>\n",
       "    </tr>\n",
       "    <tr>\n",
       "      <th>58</th>\n",
       "      <td>SOUTHERN AFRICA</td>\n",
       "      <td>SOUTHERN AFRICA</td>\n",
       "      <td>Sub-Region</td>\n",
       "      <td>2019</td>\n",
       "      <td>67.732</td>\n",
       "      <td>67732000</td>\n",
       "      <td>SOUTHERN AFRICA</td>\n",
       "    </tr>\n",
       "    <tr>\n",
       "      <th>64</th>\n",
       "      <td>NORTHERN AMERICA</td>\n",
       "      <td>NORTHERN AMERICA</td>\n",
       "      <td>Sub-Region</td>\n",
       "      <td>2019</td>\n",
       "      <td>368.193</td>\n",
       "      <td>368193000</td>\n",
       "      <td>NORTHERN AMERICA</td>\n",
       "    </tr>\n",
       "    <tr>\n",
       "      <th>67</th>\n",
       "      <td>LATIN AMERICA AND THE CARIBBEAN</td>\n",
       "      <td>LATIN AMERICA AND THE CARIBBEAN</td>\n",
       "      <td>Sub-Region</td>\n",
       "      <td>2019</td>\n",
       "      <td>651.036</td>\n",
       "      <td>651036000</td>\n",
       "      <td>LATIN AMERICA AND THE CARIBBEAN</td>\n",
       "    </tr>\n",
       "    <tr>\n",
       "      <th>68</th>\n",
       "      <td>CENTRAL AMERICA</td>\n",
       "      <td>CENTRAL AMERICA</td>\n",
       "      <td>Sub-Region</td>\n",
       "      <td>2019</td>\n",
       "      <td>178.611</td>\n",
       "      <td>178611000</td>\n",
       "      <td>CENTRAL AMERICA</td>\n",
       "    </tr>\n",
       "    <tr>\n",
       "      <th>77</th>\n",
       "      <td>CARIBBEAN</td>\n",
       "      <td>CARIBBEAN</td>\n",
       "      <td>Sub-Region</td>\n",
       "      <td>2019</td>\n",
       "      <td>43.233</td>\n",
       "      <td>43233000</td>\n",
       "      <td>CARIBBEAN</td>\n",
       "    </tr>\n",
       "    <tr>\n",
       "      <th>95</th>\n",
       "      <td>SOUTH AMERICA</td>\n",
       "      <td>SOUTH AMERICA</td>\n",
       "      <td>Sub-Region</td>\n",
       "      <td>2019</td>\n",
       "      <td>429.191</td>\n",
       "      <td>429191000</td>\n",
       "      <td>SOUTH AMERICA</td>\n",
       "    </tr>\n",
       "    <tr>\n",
       "      <th>109</th>\n",
       "      <td>ASIA</td>\n",
       "      <td>ASIA</td>\n",
       "      <td>Sub-Region</td>\n",
       "      <td>2019</td>\n",
       "      <td>4625.927</td>\n",
       "      <td>4625927000</td>\n",
       "      <td>ASIA</td>\n",
       "    </tr>\n",
       "    <tr>\n",
       "      <th>110</th>\n",
       "      <td>WESTERN ASIA</td>\n",
       "      <td>WESTERN ASIA</td>\n",
       "      <td>Sub-Region</td>\n",
       "      <td>2019</td>\n",
       "      <td>280.927</td>\n",
       "      <td>280927000</td>\n",
       "      <td>WESTERN ASIA</td>\n",
       "    </tr>\n",
       "    <tr>\n",
       "      <th>129</th>\n",
       "      <td>CENTRAL ASIA</td>\n",
       "      <td>CENTRAL ASIA</td>\n",
       "      <td>Sub-Region</td>\n",
       "      <td>2019</td>\n",
       "      <td>74.961</td>\n",
       "      <td>74961000</td>\n",
       "      <td>CENTRAL ASIA</td>\n",
       "    </tr>\n",
       "    <tr>\n",
       "      <th>135</th>\n",
       "      <td>SOUTH ASIA</td>\n",
       "      <td>SOUTH ASIA</td>\n",
       "      <td>Sub-Region</td>\n",
       "      <td>2019</td>\n",
       "      <td>1967.131</td>\n",
       "      <td>1967131000</td>\n",
       "      <td>SOUTH ASIA</td>\n",
       "    </tr>\n",
       "    <tr>\n",
       "      <th>145</th>\n",
       "      <td>SOUTHEAST ASIA</td>\n",
       "      <td>SOUTHEAST ASIA</td>\n",
       "      <td>Sub-Region</td>\n",
       "      <td>2019</td>\n",
       "      <td>661.845</td>\n",
       "      <td>661845000</td>\n",
       "      <td>SOUTHEAST ASIA</td>\n",
       "    </tr>\n",
       "    <tr>\n",
       "      <th>157</th>\n",
       "      <td>EAST ASIA</td>\n",
       "      <td>EAST ASIA</td>\n",
       "      <td>Sub-Region</td>\n",
       "      <td>2019</td>\n",
       "      <td>1641.063</td>\n",
       "      <td>1641063000</td>\n",
       "      <td>EAST ASIA</td>\n",
       "    </tr>\n",
       "    <tr>\n",
       "      <th>166</th>\n",
       "      <td>EUROPE</td>\n",
       "      <td>EUROPE</td>\n",
       "      <td>Sub-Region</td>\n",
       "      <td>2019</td>\n",
       "      <td>746.622</td>\n",
       "      <td>746622000</td>\n",
       "      <td>EUROPE</td>\n",
       "    </tr>\n",
       "    <tr>\n",
       "      <th>167</th>\n",
       "      <td>NORTHERN EUROPE</td>\n",
       "      <td>NORTHERN EUROPE</td>\n",
       "      <td>Sub-Region</td>\n",
       "      <td>2019</td>\n",
       "      <td>105.990</td>\n",
       "      <td>105990000</td>\n",
       "      <td>NORTHERN EUROPE</td>\n",
       "    </tr>\n",
       "    <tr>\n",
       "      <th>179</th>\n",
       "      <td>WESTERN EUROPE</td>\n",
       "      <td>WESTERN EUROPE</td>\n",
       "      <td>Sub-Region</td>\n",
       "      <td>2019</td>\n",
       "      <td>195.479</td>\n",
       "      <td>195479000</td>\n",
       "      <td>WESTERN EUROPE</td>\n",
       "    </tr>\n",
       "    <tr>\n",
       "      <th>189</th>\n",
       "      <td>EASTERN EUROPE</td>\n",
       "      <td>EASTERN EUROPE</td>\n",
       "      <td>Sub-Region</td>\n",
       "      <td>2019</td>\n",
       "      <td>291.902</td>\n",
       "      <td>291902000</td>\n",
       "      <td>EASTERN EUROPE</td>\n",
       "    </tr>\n",
       "    <tr>\n",
       "      <th>200</th>\n",
       "      <td>SOUTHERN EUROPE</td>\n",
       "      <td>SOUTHERN EUROPE</td>\n",
       "      <td>Sub-Region</td>\n",
       "      <td>2019</td>\n",
       "      <td>153.251</td>\n",
       "      <td>153251000</td>\n",
       "      <td>SOUTHERN EUROPE</td>\n",
       "    </tr>\n",
       "    <tr>\n",
       "      <th>216</th>\n",
       "      <td>OCEANIA</td>\n",
       "      <td>OCEANIA</td>\n",
       "      <td>Sub-Region</td>\n",
       "      <td>2019</td>\n",
       "      <td>43.155</td>\n",
       "      <td>43155000</td>\n",
       "      <td>OCEANIA</td>\n",
       "    </tr>\n",
       "  </tbody>\n",
       "</table>\n",
       "</div>"
      ],
      "text/plain": [
       "                                FIPS                             Name  \\\n",
       "0                              WORLD                            WORLD   \n",
       "1                             AFRICA                           AFRICA   \n",
       "2                    NORTHERN AFRICA                  NORTHERN AFRICA   \n",
       "10                    WESTERN AFRICA                   WESTERN AFRICA   \n",
       "27                    EASTERN AFRICA                   EASTERN AFRICA   \n",
       "48                     MIDDLE AFRICA                    MIDDLE AFRICA   \n",
       "58                   SOUTHERN AFRICA                  SOUTHERN AFRICA   \n",
       "64                  NORTHERN AMERICA                 NORTHERN AMERICA   \n",
       "67   LATIN AMERICA AND THE CARIBBEAN  LATIN AMERICA AND THE CARIBBEAN   \n",
       "68                   CENTRAL AMERICA                  CENTRAL AMERICA   \n",
       "77                         CARIBBEAN                        CARIBBEAN   \n",
       "95                     SOUTH AMERICA                    SOUTH AMERICA   \n",
       "109                             ASIA                             ASIA   \n",
       "110                     WESTERN ASIA                     WESTERN ASIA   \n",
       "129                     CENTRAL ASIA                     CENTRAL ASIA   \n",
       "135                       SOUTH ASIA                       SOUTH ASIA   \n",
       "145                   SOUTHEAST ASIA                   SOUTHEAST ASIA   \n",
       "157                        EAST ASIA                        EAST ASIA   \n",
       "166                           EUROPE                           EUROPE   \n",
       "167                  NORTHERN EUROPE                  NORTHERN EUROPE   \n",
       "179                   WESTERN EUROPE                   WESTERN EUROPE   \n",
       "189                   EASTERN EUROPE                   EASTERN EUROPE   \n",
       "200                  SOUTHERN EUROPE                  SOUTHERN EUROPE   \n",
       "216                          OCEANIA                          OCEANIA   \n",
       "\n",
       "           Type  TimeFrame  Data (M)  Population  \\\n",
       "0         World       2019  7772.850  7772850000   \n",
       "1    Sub-Region       2019  1337.918  1337918000   \n",
       "2    Sub-Region       2019   244.344   244344000   \n",
       "10   Sub-Region       2019   401.115   401115000   \n",
       "27   Sub-Region       2019   444.970   444970000   \n",
       "48   Sub-Region       2019   179.757   179757000   \n",
       "58   Sub-Region       2019    67.732    67732000   \n",
       "64   Sub-Region       2019   368.193   368193000   \n",
       "67   Sub-Region       2019   651.036   651036000   \n",
       "68   Sub-Region       2019   178.611   178611000   \n",
       "77   Sub-Region       2019    43.233    43233000   \n",
       "95   Sub-Region       2019   429.191   429191000   \n",
       "109  Sub-Region       2019  4625.927  4625927000   \n",
       "110  Sub-Region       2019   280.927   280927000   \n",
       "129  Sub-Region       2019    74.961    74961000   \n",
       "135  Sub-Region       2019  1967.131  1967131000   \n",
       "145  Sub-Region       2019   661.845   661845000   \n",
       "157  Sub-Region       2019  1641.063  1641063000   \n",
       "166  Sub-Region       2019   746.622   746622000   \n",
       "167  Sub-Region       2019   105.990   105990000   \n",
       "179  Sub-Region       2019   195.479   195479000   \n",
       "189  Sub-Region       2019   291.902   291902000   \n",
       "200  Sub-Region       2019   153.251   153251000   \n",
       "216  Sub-Region       2019    43.155    43155000   \n",
       "\n",
       "                              Region  \n",
       "0                              WORLD  \n",
       "1                             AFRICA  \n",
       "2                    NORTHERN AFRICA  \n",
       "10                    WESTERN AFRICA  \n",
       "27                    EASTERN AFRICA  \n",
       "48                     MIDDLE AFRICA  \n",
       "58                   SOUTHERN AFRICA  \n",
       "64                  NORTHERN AMERICA  \n",
       "67   LATIN AMERICA AND THE CARIBBEAN  \n",
       "68                   CENTRAL AMERICA  \n",
       "77                         CARIBBEAN  \n",
       "95                     SOUTH AMERICA  \n",
       "109                             ASIA  \n",
       "110                     WESTERN ASIA  \n",
       "129                     CENTRAL ASIA  \n",
       "135                       SOUTH ASIA  \n",
       "145                   SOUTHEAST ASIA  \n",
       "157                        EAST ASIA  \n",
       "166                           EUROPE  \n",
       "167                  NORTHERN EUROPE  \n",
       "179                   WESTERN EUROPE  \n",
       "189                   EASTERN EUROPE  \n",
       "200                  SOUTHERN EUROPE  \n",
       "216                          OCEANIA  "
      ]
     },
     "execution_count": 7,
     "metadata": {},
     "output_type": "execute_result"
    }
   ],
   "source": [
    "regions_df"
   ]
  },
  {
   "cell_type": "code",
   "execution_count": 8,
   "metadata": {},
   "outputs": [
    {
     "data": {
      "text/html": [
       "<div>\n",
       "<style scoped>\n",
       "    .dataframe tbody tr th:only-of-type {\n",
       "        vertical-align: middle;\n",
       "    }\n",
       "\n",
       "    .dataframe tbody tr th {\n",
       "        vertical-align: top;\n",
       "    }\n",
       "\n",
       "    .dataframe thead th {\n",
       "        text-align: right;\n",
       "    }\n",
       "</style>\n",
       "<table border=\"1\" class=\"dataframe\">\n",
       "  <thead>\n",
       "    <tr style=\"text-align: right;\">\n",
       "      <th></th>\n",
       "      <th>FIPS</th>\n",
       "      <th>Name</th>\n",
       "      <th>Type</th>\n",
       "      <th>TimeFrame</th>\n",
       "      <th>Data (M)</th>\n",
       "      <th>Population</th>\n",
       "      <th>Region</th>\n",
       "    </tr>\n",
       "  </thead>\n",
       "  <tbody>\n",
       "    <tr>\n",
       "      <th>3</th>\n",
       "      <td>DZ</td>\n",
       "      <td>Algeria</td>\n",
       "      <td>Country</td>\n",
       "      <td>2019</td>\n",
       "      <td>44.357</td>\n",
       "      <td>44357000</td>\n",
       "      <td>NORTHERN AFRICA</td>\n",
       "    </tr>\n",
       "    <tr>\n",
       "      <th>4</th>\n",
       "      <td>EG</td>\n",
       "      <td>Egypt</td>\n",
       "      <td>Country</td>\n",
       "      <td>2019</td>\n",
       "      <td>100.803</td>\n",
       "      <td>100803000</td>\n",
       "      <td>NORTHERN AFRICA</td>\n",
       "    </tr>\n",
       "    <tr>\n",
       "      <th>5</th>\n",
       "      <td>LY</td>\n",
       "      <td>Libya</td>\n",
       "      <td>Country</td>\n",
       "      <td>2019</td>\n",
       "      <td>6.891</td>\n",
       "      <td>6891000</td>\n",
       "      <td>NORTHERN AFRICA</td>\n",
       "    </tr>\n",
       "    <tr>\n",
       "      <th>6</th>\n",
       "      <td>MA</td>\n",
       "      <td>Morocco</td>\n",
       "      <td>Country</td>\n",
       "      <td>2019</td>\n",
       "      <td>35.952</td>\n",
       "      <td>35952000</td>\n",
       "      <td>NORTHERN AFRICA</td>\n",
       "    </tr>\n",
       "    <tr>\n",
       "      <th>7</th>\n",
       "      <td>SD</td>\n",
       "      <td>Sudan</td>\n",
       "      <td>Country</td>\n",
       "      <td>2019</td>\n",
       "      <td>43.849</td>\n",
       "      <td>43849000</td>\n",
       "      <td>NORTHERN AFRICA</td>\n",
       "    </tr>\n",
       "    <tr>\n",
       "      <th>...</th>\n",
       "      <td>...</td>\n",
       "      <td>...</td>\n",
       "      <td>...</td>\n",
       "      <td>...</td>\n",
       "      <td>...</td>\n",
       "      <td>...</td>\n",
       "      <td>...</td>\n",
       "    </tr>\n",
       "    <tr>\n",
       "      <th>229</th>\n",
       "      <td>WS</td>\n",
       "      <td>Samoa</td>\n",
       "      <td>Country</td>\n",
       "      <td>2019</td>\n",
       "      <td>0.200</td>\n",
       "      <td>200000</td>\n",
       "      <td>OCEANIA</td>\n",
       "    </tr>\n",
       "    <tr>\n",
       "      <th>230</th>\n",
       "      <td>SB</td>\n",
       "      <td>Solomon Islands</td>\n",
       "      <td>Country</td>\n",
       "      <td>2019</td>\n",
       "      <td>0.715</td>\n",
       "      <td>715000</td>\n",
       "      <td>OCEANIA</td>\n",
       "    </tr>\n",
       "    <tr>\n",
       "      <th>231</th>\n",
       "      <td>TO</td>\n",
       "      <td>Tonga</td>\n",
       "      <td>Country</td>\n",
       "      <td>2019</td>\n",
       "      <td>0.099</td>\n",
       "      <td>99000</td>\n",
       "      <td>OCEANIA</td>\n",
       "    </tr>\n",
       "    <tr>\n",
       "      <th>232</th>\n",
       "      <td>TV</td>\n",
       "      <td>Tuvalu</td>\n",
       "      <td>Country</td>\n",
       "      <td>2019</td>\n",
       "      <td>0.010</td>\n",
       "      <td>10000</td>\n",
       "      <td>OCEANIA</td>\n",
       "    </tr>\n",
       "    <tr>\n",
       "      <th>233</th>\n",
       "      <td>VU</td>\n",
       "      <td>Vanuatu</td>\n",
       "      <td>Country</td>\n",
       "      <td>2019</td>\n",
       "      <td>0.321</td>\n",
       "      <td>321000</td>\n",
       "      <td>OCEANIA</td>\n",
       "    </tr>\n",
       "  </tbody>\n",
       "</table>\n",
       "<p>210 rows × 7 columns</p>\n",
       "</div>"
      ],
      "text/plain": [
       "    FIPS             Name     Type  TimeFrame  Data (M)  Population  \\\n",
       "3     DZ          Algeria  Country       2019    44.357    44357000   \n",
       "4     EG            Egypt  Country       2019   100.803   100803000   \n",
       "5     LY            Libya  Country       2019     6.891     6891000   \n",
       "6     MA          Morocco  Country       2019    35.952    35952000   \n",
       "7     SD            Sudan  Country       2019    43.849    43849000   \n",
       "..   ...              ...      ...        ...       ...         ...   \n",
       "229   WS            Samoa  Country       2019     0.200      200000   \n",
       "230   SB  Solomon Islands  Country       2019     0.715      715000   \n",
       "231   TO            Tonga  Country       2019     0.099       99000   \n",
       "232   TV           Tuvalu  Country       2019     0.010       10000   \n",
       "233   VU          Vanuatu  Country       2019     0.321      321000   \n",
       "\n",
       "              Region  \n",
       "3    NORTHERN AFRICA  \n",
       "4    NORTHERN AFRICA  \n",
       "5    NORTHERN AFRICA  \n",
       "6    NORTHERN AFRICA  \n",
       "7    NORTHERN AFRICA  \n",
       "..               ...  \n",
       "229          OCEANIA  \n",
       "230          OCEANIA  \n",
       "231          OCEANIA  \n",
       "232          OCEANIA  \n",
       "233          OCEANIA  \n",
       "\n",
       "[210 rows x 7 columns]"
      ]
     },
     "execution_count": 8,
     "metadata": {},
     "output_type": "execute_result"
    }
   ],
   "source": [
    "countries_df"
   ]
  },
  {
   "cell_type": "code",
   "execution_count": 9,
   "metadata": {},
   "outputs": [
    {
     "data": {
      "text/plain": [
       "210"
      ]
     },
     "execution_count": 9,
     "metadata": {},
     "output_type": "execute_result"
    }
   ],
   "source": [
    "len(countries_df.Name.unique())"
   ]
  },
  {
   "cell_type": "markdown",
   "metadata": {},
   "source": [
    "### Step 3: Getting Article Quality Predictions"
   ]
  },
  {
   "cell_type": "markdown",
   "metadata": {},
   "source": [
    "ORES returns a prediction value that contains the name of one category, as well as probability values for each of the 6 quality categories. For this assignment, **you only need to capture and use the value for prediction.**"
   ]
  },
  {
   "cell_type": "code",
   "execution_count": 10,
   "metadata": {},
   "outputs": [
    {
     "data": {
      "text/html": [
       "<div>\n",
       "<style scoped>\n",
       "    .dataframe tbody tr th:only-of-type {\n",
       "        vertical-align: middle;\n",
       "    }\n",
       "\n",
       "    .dataframe tbody tr th {\n",
       "        vertical-align: top;\n",
       "    }\n",
       "\n",
       "    .dataframe thead th {\n",
       "        text-align: right;\n",
       "    }\n",
       "</style>\n",
       "<table border=\"1\" class=\"dataframe\">\n",
       "  <thead>\n",
       "    <tr style=\"text-align: right;\">\n",
       "      <th></th>\n",
       "      <th>page</th>\n",
       "      <th>country</th>\n",
       "      <th>rev_id</th>\n",
       "    </tr>\n",
       "  </thead>\n",
       "  <tbody>\n",
       "    <tr>\n",
       "      <th>1</th>\n",
       "      <td>Bir I of Kanem</td>\n",
       "      <td>Chad</td>\n",
       "      <td>355319463</td>\n",
       "    </tr>\n",
       "    <tr>\n",
       "      <th>10</th>\n",
       "      <td>Information Minister of the Palestinian Nation...</td>\n",
       "      <td>Palestinian Territory</td>\n",
       "      <td>393276188</td>\n",
       "    </tr>\n",
       "    <tr>\n",
       "      <th>12</th>\n",
       "      <td>Yos Por</td>\n",
       "      <td>Cambodia</td>\n",
       "      <td>393822005</td>\n",
       "    </tr>\n",
       "    <tr>\n",
       "      <th>23</th>\n",
       "      <td>Julius Gregr</td>\n",
       "      <td>Czech Republic</td>\n",
       "      <td>395521877</td>\n",
       "    </tr>\n",
       "    <tr>\n",
       "      <th>24</th>\n",
       "      <td>Edvard Gregr</td>\n",
       "      <td>Czech Republic</td>\n",
       "      <td>395526568</td>\n",
       "    </tr>\n",
       "    <tr>\n",
       "      <th>...</th>\n",
       "      <td>...</td>\n",
       "      <td>...</td>\n",
       "      <td>...</td>\n",
       "    </tr>\n",
       "    <tr>\n",
       "      <th>47192</th>\n",
       "      <td>Yahya Jammeh</td>\n",
       "      <td>Gambia</td>\n",
       "      <td>807482007</td>\n",
       "    </tr>\n",
       "    <tr>\n",
       "      <th>47193</th>\n",
       "      <td>Lucius Fairchild</td>\n",
       "      <td>United States</td>\n",
       "      <td>807483006</td>\n",
       "    </tr>\n",
       "    <tr>\n",
       "      <th>47194</th>\n",
       "      <td>Fahd of Saudi Arabia</td>\n",
       "      <td>Saudi Arabia</td>\n",
       "      <td>807483153</td>\n",
       "    </tr>\n",
       "    <tr>\n",
       "      <th>47195</th>\n",
       "      <td>Francis Fessenden</td>\n",
       "      <td>United States</td>\n",
       "      <td>807483270</td>\n",
       "    </tr>\n",
       "    <tr>\n",
       "      <th>47196</th>\n",
       "      <td>Ajay Kannoujiya</td>\n",
       "      <td>India</td>\n",
       "      <td>807484325</td>\n",
       "    </tr>\n",
       "  </tbody>\n",
       "</table>\n",
       "<p>46701 rows × 3 columns</p>\n",
       "</div>"
      ],
      "text/plain": [
       "                                                    page  \\\n",
       "1                                         Bir I of Kanem   \n",
       "10     Information Minister of the Palestinian Nation...   \n",
       "12                                               Yos Por   \n",
       "23                                          Julius Gregr   \n",
       "24                                          Edvard Gregr   \n",
       "...                                                  ...   \n",
       "47192                                       Yahya Jammeh   \n",
       "47193                                   Lucius Fairchild   \n",
       "47194                               Fahd of Saudi Arabia   \n",
       "47195                                  Francis Fessenden   \n",
       "47196                                    Ajay Kannoujiya   \n",
       "\n",
       "                     country     rev_id  \n",
       "1                       Chad  355319463  \n",
       "10     Palestinian Territory  393276188  \n",
       "12                  Cambodia  393822005  \n",
       "23            Czech Republic  395521877  \n",
       "24            Czech Republic  395526568  \n",
       "...                      ...        ...  \n",
       "47192                 Gambia  807482007  \n",
       "47193          United States  807483006  \n",
       "47194           Saudi Arabia  807483153  \n",
       "47195          United States  807483270  \n",
       "47196                  India  807484325  \n",
       "\n",
       "[46701 rows x 3 columns]"
      ]
     },
     "execution_count": 10,
     "metadata": {},
     "output_type": "execute_result"
    }
   ],
   "source": [
    "page_df"
   ]
  },
  {
   "cell_type": "code",
   "execution_count": 11,
   "metadata": {},
   "outputs": [],
   "source": [
    "ores_session = api.Session(\"https://ores.wikimedia.org\", \"DATA 512 Class project <swheele@uw.edu>\")\n",
    "\n",
    "revids = list(page_df.rev_id)\n",
    "results = []\n",
    "\n",
    "for revid in revids:\n",
    "    results.append(ores_session.score(\"enwiki\", [\"articlequality\"], [revid]))\n"
   ]
  },
  {
   "cell_type": "code",
   "execution_count": 12,
   "metadata": {},
   "outputs": [],
   "source": [
    "scores = []"
   ]
  },
  {
   "cell_type": "code",
   "execution_count": 13,
   "metadata": {},
   "outputs": [
    {
     "name": "stdout",
     "output_type": "stream",
     "text": [
      "46701\n",
      "46701\n",
      "0\n"
     ]
    }
   ],
   "source": [
    "print(len(revids))\n",
    "print(len(results))\n",
    "print(len(scores))"
   ]
  },
  {
   "cell_type": "code",
   "execution_count": 14,
   "metadata": {},
   "outputs": [
    {
     "name": "stdout",
     "output_type": "stream",
     "text": [
      "{'articlequality': {'score': {'prediction': 'Stub', 'probability': {'B': 0.005643168767502225, 'C': 0.005641424870624224, 'FA': 0.0010757577110297029, 'GA': 0.001543343686495854, 'Start': 0.010537503531047517, 'Stub': 0.9755588014333005}}}}\n"
     ]
    }
   ],
   "source": [
    "count=0\n",
    "for score in results[0]:\n",
    "    print(score)"
   ]
  },
  {
   "cell_type": "code",
   "execution_count": 15,
   "metadata": {},
   "outputs": [
    {
     "name": "stderr",
     "output_type": "stream",
     "text": [
      "100%|███████████████████████████████████| 46701/46701 [1:13:29<00:00, 10.59it/s]\n"
     ]
    }
   ],
   "source": [
    "for i in tqdm(range(len(results))):\n",
    "    for score in results[i]:\n",
    "        if 'error' in list(score['articlequality'].keys()):\n",
    "            scores.append((revids[i], np.nan))\n",
    "        else:\n",
    "            scores.append((revids[i], score['articlequality']['score']['prediction']))"
   ]
  },
  {
   "cell_type": "code",
   "execution_count": 16,
   "metadata": {},
   "outputs": [
    {
     "data": {
      "text/plain": [
       "46700"
      ]
     },
     "execution_count": 16,
     "metadata": {},
     "output_type": "execute_result"
    }
   ],
   "source": [
    "len(scores)"
   ]
  },
  {
   "cell_type": "code",
   "execution_count": 29,
   "metadata": {},
   "outputs": [
    {
     "name": "stdout",
     "output_type": "stream",
     "text": [
      "705737107\n",
      "(705737107, 'Start')\n"
     ]
    }
   ],
   "source": [
    "print(revids[1000])\n",
    "print(scores[999])"
   ]
  },
  {
   "cell_type": "code",
   "execution_count": null,
   "metadata": {},
   "outputs": [],
   "source": [
    "page_df = pd.read_csv(page_data_path)\n",
    "\n",
    "page_df.shape"
   ]
  },
  {
   "cell_type": "code",
   "execution_count": null,
   "metadata": {},
   "outputs": [],
   "source": [
    "len(scores)"
   ]
  },
  {
   "cell_type": "code",
   "execution_count": null,
   "metadata": {},
   "outputs": [],
   "source": [
    "page_df = pd.concat([page_df, pd.Series(scores)], axis=1)\n",
    "\n",
    "page_df.rev_id.isna().sum()"
   ]
  },
  {
   "cell_type": "code",
   "execution_count": null,
   "metadata": {},
   "outputs": [],
   "source": [
    "page_df = page_df.rename(columns={0: \"score\"})\n",
    "\n",
    "page_df.score.isna().sum()"
   ]
  },
  {
   "cell_type": "code",
   "execution_count": null,
   "metadata": {},
   "outputs": [],
   "source": [
    "page_df.rev_id.isna().sum()"
   ]
  },
  {
   "cell_type": "code",
   "execution_count": null,
   "metadata": {},
   "outputs": [],
   "source": [
    "page_df"
   ]
  },
  {
   "cell_type": "code",
   "execution_count": null,
   "metadata": {},
   "outputs": [],
   "source": [
    "nan_scores_df = page_df[page_df['score'].isna()]\n",
    "articles_df = page_df[~page_df['score'].isna()]"
   ]
  },
  {
   "cell_type": "code",
   "execution_count": null,
   "metadata": {},
   "outputs": [],
   "source": [
    "nan_scores_df"
   ]
  },
  {
   "cell_type": "code",
   "execution_count": null,
   "metadata": {},
   "outputs": [],
   "source": [
    "articles_df[(articles_df.rev_id == np.nan) & (articles_df.score == 'Stub')]"
   ]
  },
  {
   "cell_type": "code",
   "execution_count": null,
   "metadata": {},
   "outputs": [],
   "source": [
    "page_df.loc[(page_df.rev_id.isna())]"
   ]
  },
  {
   "cell_type": "code",
   "execution_count": null,
   "metadata": {},
   "outputs": [],
   "source": [
    "page_df2 = pd.read_csv(page_data_path)\n",
    "page_df2"
   ]
  },
  {
   "cell_type": "code",
   "execution_count": null,
   "metadata": {},
   "outputs": [],
   "source": [
    "page_df2.rev_id.isna().sum()"
   ]
  },
  {
   "cell_type": "markdown",
   "metadata": {},
   "source": [
    "#### Step 4: Combining the Datasets"
   ]
  },
  {
   "cell_type": "code",
   "execution_count": null,
   "metadata": {},
   "outputs": [],
   "source": [
    "merged_df = articles_df.merge(countries_df, how='outer', left_on='country', right_on='Name')\n"
   ]
  },
  {
   "cell_type": "code",
   "execution_count": null,
   "metadata": {},
   "outputs": [],
   "source": [
    "merged_df"
   ]
  },
  {
   "cell_type": "code",
   "execution_count": null,
   "metadata": {},
   "outputs": [],
   "source": [
    "no_matches_df = merged_df.loc[(merged_df.score.isna()) | (merged_df.Name.isna())]\n",
    "merged_df = merged_df.drop(index=no_matches_df.index)\n",
    "merged_df = merged_df.drop(columns=['Name', 'Type', 'FIPS', 'TimeFrame', 'Data (M)']).rename(columns={'page': 'article_name', 'rev_id': 'revision_id', 'score': 'article_quality_est', 'Population': 'population'})\n",
    "\n",
    "merged_df"
   ]
  },
  {
   "cell_type": "code",
   "execution_count": null,
   "metadata": {},
   "outputs": [],
   "source": [
    "'Guam' in merged_df.country"
   ]
  },
  {
   "cell_type": "markdown",
   "metadata": {},
   "source": [
    "#### Step 5: Analysis"
   ]
  },
  {
   "cell_type": "code",
   "execution_count": null,
   "metadata": {},
   "outputs": [],
   "source": [
    "groupby_df = merged_df.groupby(['country', 'article_quality_est']).agg({'revision_id': 'count', 'population': 'first'})\n",
    "\n",
    "groupby_df"
   ]
  },
  {
   "cell_type": "code",
   "execution_count": null,
   "metadata": {},
   "outputs": [],
   "source": [
    "groupby_df.loc[('United Kingdom', slice(None)), :].revision_id.sum()"
   ]
  },
  {
   "cell_type": "code",
   "execution_count": null,
   "metadata": {},
   "outputs": [],
   "source": [
    "print('FA' not in groupby_df.loc[('Cambodia', slice(None)), :].index)"
   ]
  },
  {
   "cell_type": "code",
   "execution_count": null,
   "metadata": {},
   "outputs": [],
   "source": [
    "merged_df.country.unique()"
   ]
  },
  {
   "cell_type": "code",
   "execution_count": null,
   "metadata": {},
   "outputs": [],
   "source": [
    "data = []\n",
    "for country in merged_df.country.unique():\n",
    "\n",
    "    if (groupby_df.index.isin([(country, 'FA')]).any()) | (groupby_df.index.isin([(country, 'GA')]).any()):\n",
    "        articles_sum = groupby_df.loc[(country, ['FA', 'GA']), :].revision_id.sum()\n",
    "    else:\n",
    "        articles_sum = 0\n",
    "\n",
    "    articles_per_pop = ( articles_sum/groupby_df.loc[(country, slice(None)), :].population[0] ) * 100\n",
    "    high_quality_percent = ( articles_sum/groupby_df.loc[(country, slice(None)), :].revision_id.sum() ) * 100\n",
    "    \n",
    "    data.append([country, articles_per_pop, high_quality_percent])\n",
    "\n",
    "results_df = pd.DataFrame(data, columns=['country', 'articles_per_pop', 'high_quality_percent'])\n",
    "results_df"
   ]
  },
  {
   "cell_type": "code",
   "execution_count": null,
   "metadata": {},
   "outputs": [],
   "source": [
    "results_df.nlargest(10, 'articles_per_pop', keep='all')"
   ]
  },
  {
   "cell_type": "code",
   "execution_count": null,
   "metadata": {},
   "outputs": [],
   "source": [
    "results_df.loc[results_df.high_quality_percent == 9.523809523809524]"
   ]
  },
  {
   "cell_type": "code",
   "execution_count": null,
   "metadata": {},
   "outputs": [],
   "source": [
    "groupby_df"
   ]
  },
  {
   "cell_type": "code",
   "execution_count": null,
   "metadata": {},
   "outputs": [],
   "source": [
    "WPDS_full_df = pd.read_csv(WPDS_path)"
   ]
  },
  {
   "cell_type": "code",
   "execution_count": null,
   "metadata": {},
   "outputs": [],
   "source": [
    "WPDS_regions"
   ]
  },
  {
   "cell_type": "code",
   "execution_count": null,
   "metadata": {},
   "outputs": [],
   "source": [
    "WPDS_regions_df.shape"
   ]
  },
  {
   "cell_type": "code",
   "execution_count": null,
   "metadata": {},
   "outputs": [],
   "source": []
  }
 ],
 "metadata": {
  "kernelspec": {
   "display_name": "Python 3 (ipykernel)",
   "language": "python",
   "name": "python3"
  },
  "language_info": {
   "codemirror_mode": {
    "name": "ipython",
    "version": 3
   },
   "file_extension": ".py",
   "mimetype": "text/x-python",
   "name": "python",
   "nbconvert_exporter": "python",
   "pygments_lexer": "ipython3",
   "version": "3.7.11"
  }
 },
 "nbformat": 4,
 "nbformat_minor": 4
}
